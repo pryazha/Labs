{
 "cells": [
  {
   "cell_type": "code",
   "execution_count": 5,
   "id": "472b86a4-63f4-4ef3-970b-8c9d3794a3af",
   "metadata": {},
   "outputs": [],
   "source": [
    "import numpy as np\n",
    "import pandas as pd"
   ]
  },
  {
   "cell_type": "code",
   "execution_count": 20,
   "id": "1f914988",
   "metadata": {},
   "outputs": [
    {
     "name": "stdin",
     "output_type": "stream",
     "text": [
      "Номер файла:  4\n"
     ]
    }
   ],
   "source": [
    "def IntInput(message):\n",
    "    number = None\n",
    "    while number is None:\n",
    "        try:\n",
    "            number = int(input(message))\n",
    "        except ValueError:\n",
    "            print('Некорректное число!')\n",
    "    return number\n",
    "\n",
    "fileNumber = IntInput('Номер файла: ')"
   ]
  },
  {
   "cell_type": "code",
   "execution_count": 21,
   "id": "021352a9",
   "metadata": {},
   "outputs": [
    {
     "name": "stdout",
     "output_type": "stream",
     "text": [
      "Исходная матрица:\n",
      "   0  1  2  3  4  5  6  7  8  9\n",
      "0  0  0  0  0  0  1  0  0  0  0\n",
      "1  0  0  0  0  1  0  0  0  1  0\n",
      "2  0  0  0  0  0  0  1  1  0  0\n",
      "3  0  0  0  0  0  0  0  1  0  1\n",
      "4  0  1  0  0  0  0  0  0  0  0\n",
      "5  1  0  0  0  0  0  1  0  0  0\n",
      "6  0  0  1  0  0  1  0  0  1  1\n",
      "7  0  0  1  1  0  0  0  0  0  0\n",
      "8  0  1  0  0  0  0  1  0  0  0\n",
      "9  0  0  0  1  0  0  1  0  0  0\n"
     ]
    }
   ],
   "source": [
    "matrix = np.ndarray(shape=(10, 10), buffer=np.fromfile(f'g1{fileNumber}.txt', sep=' '))\n",
    "boolMatrix = np.array(matrix, dtype=bool)\n",
    "print('Исходная матрица:')\n",
    "print(pd.DataFrame(np.where(boolMatrix, 1, 0)))"
   ]
  },
  {
   "cell_type": "code",
   "execution_count": 22,
   "id": "29b02cd6",
   "metadata": {},
   "outputs": [],
   "source": [
    "resultMatrix = np.eye(len(matrix), dtype=bool)\n",
    "tempMatrix = boolMatrix\n",
    "for i in range(0, 9):\n",
    "    tempMatrix = np.matmul(resultMatrix, boolMatrix)\n",
    "    resultMatrix += tempMatrix\n",
    "# print('Матрица достижимости:')\n",
    "# print(pd.DataFrame(np.where(resultMatrix, 1, 0)))"
   ]
  },
  {
   "cell_type": "code",
   "execution_count": 23,
   "id": "9cc923f7",
   "metadata": {},
   "outputs": [
    {
     "name": "stdout",
     "output_type": "stream",
     "text": [
      "Компоненты:\n",
      "1: {0, 1, 2, 3, 4, 5, 6, 7, 8, 9}\n"
     ]
    }
   ],
   "source": [
    "df = pd.DataFrame(resultMatrix)\n",
    "result = []\n",
    "while not df.empty:\n",
    "    indices = np.where(df.iloc[0])[0]\n",
    "    result.append(set(indices))\n",
    "    df = df.drop(indices)\n",
    "\n",
    "print('Компоненты:')\n",
    "for i in range(len(result)):\n",
    "    print(f'{i + 1}: {result[i]}')"
   ]
  },
  {
   "cell_type": "code",
   "execution_count": null,
   "id": "048e96b6-3c2b-49a0-8c84-3fce32f07286",
   "metadata": {},
   "outputs": [],
   "source": []
  }
 ],
 "metadata": {
  "kernelspec": {
   "display_name": "venv",
   "language": "python",
   "name": "venv"
  },
  "language_info": {
   "codemirror_mode": {
    "name": "ipython",
    "version": 3
   },
   "file_extension": ".py",
   "mimetype": "text/x-python",
   "name": "python",
   "nbconvert_exporter": "python",
   "pygments_lexer": "ipython3",
   "version": "3.12.3"
  }
 },
 "nbformat": 4,
 "nbformat_minor": 5
}
