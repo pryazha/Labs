{
 "cells": [
  {
   "cell_type": "code",
   "execution_count": 48,
   "id": "3396ca28-bbf3-4170-9284-0c13f67f40f7",
   "metadata": {},
   "outputs": [],
   "source": [
    "import numpy as np\n",
    "import pandas as pd"
   ]
  },
  {
   "cell_type": "code",
   "execution_count": 62,
   "id": "1f914988",
   "metadata": {},
   "outputs": [],
   "source": [
    "def IntInput(message):\n",
    "    number = None\n",
    "    while number is None:\n",
    "        try:\n",
    "            number = int(input(message))\n",
    "        except ValueError:\n",
    "            print('Некорректное число!')\n",
    "    return number\n",
    "\n",
    "fileNumber = IntInput('Номер файла: ')"
   ]
  },
  {
   "cell_type": "code",
   "execution_count": 63,
   "id": "021352a9",
   "metadata": {},
   "outputs": [
    {
     "name": "stdout",
     "output_type": "stream",
     "text": [
      "Исходная матрица:\n",
      "   0  1  2  3  4  5  6  7  8  9\n",
      "0  0  0  0  0  0  1  0  0  0  0\n",
      "1  0  0  0  0  1  0  0  0  1  0\n",
      "2  0  0  0  0  0  0  1  1  0  0\n",
      "3  0  0  0  0  0  0  0  1  0  1\n",
      "4  0  1  0  0  0  0  0  0  0  0\n",
      "5  1  0  0  0  0  0  1  0  0  0\n",
      "6  0  0  1  0  0  1  0  0  1  1\n",
      "7  0  0  1  1  0  0  0  0  0  0\n",
      "8  0  1  0  0  0  0  1  0  0  0\n",
      "9  0  0  0  1  0  0  1  0  0  0\n"
     ]
    }
   ],
   "source": [
    "matrix = np.ndarray(shape=(10, 10), buffer=np.fromfile(f'g1{fileNumber}.txt', sep=' '))\n",
    "boolMatrix = np.array(matrix, dtype=bool)\n",
    "print('Исходная матрица:')\n",
    "print(pd.DataFrame(np.where(boolMatrix, 1, 0)))"
   ]
  },
  {
   "cell_type": "code",
   "execution_count": 64,
   "id": "29b02cd6",
   "metadata": {},
   "outputs": [
    {
     "name": "stdout",
     "output_type": "stream",
     "text": [
      "Матрица достижимости:\n",
      "   0  1  2  3  4  5  6  7  8  9\n",
      "0  1  1  1  1  1  1  1  1  1  1\n",
      "1  1  1  1  1  1  1  1  1  1  1\n",
      "2  1  1  1  1  1  1  1  1  1  1\n",
      "3  1  1  1  1  1  1  1  1  1  1\n",
      "4  1  1  1  1  1  1  1  1  1  1\n",
      "5  1  1  1  1  1  1  1  1  1  1\n",
      "6  1  1  1  1  1  1  1  1  1  1\n",
      "7  1  1  1  1  1  1  1  1  1  1\n",
      "8  1  1  1  1  1  1  1  1  1  1\n",
      "9  1  1  1  1  1  1  1  1  1  1\n"
     ]
    }
   ],
   "source": [
    "resultMatrix = np.eye(len(matrix), dtype=bool)\n",
    "tempMatrix = boolMatrix\n",
    "for i in range(0, 9):\n",
    "    tempMatrix = np.matmul(resultMatrix, boolMatrix)\n",
    "    resultMatrix += tempMatrix\n",
    "print('Матрица достижимости:')\n",
    "print(pd.DataFrame(np.where(resultMatrix, 1, 0)))"
   ]
  },
  {
   "cell_type": "code",
   "execution_count": 65,
   "id": "9cc923f7",
   "metadata": {},
   "outputs": [
    {
     "name": "stdout",
     "output_type": "stream",
     "text": [
      "Компоненты:\n",
      "1: {1, 2, 3, 4, 5, 6, 7, 8, 9, 10}\n"
     ]
    }
   ],
   "source": [
    "df = pd.DataFrame(resultMatrix)\n",
    "result = []\n",
    "while not df.empty:\n",
    "    indices = np.where(df.iloc[0])[0]\n",
    "    result.append(set(indices + 1))\n",
    "    df = df.drop(indices)\n",
    "\n",
    "print('Компоненты:')\n",
    "for i in range(len(result)):\n",
    "    print(f'{i + 1}: {result[i]}')"
   ]
  }
 ],
 "metadata": {
  "kernelspec": {
   "display_name": "Python 3 (ipykernel)",
   "language": "python",
   "name": "python3"
  },
  "language_info": {
   "codemirror_mode": {
    "name": "ipython",
    "version": 3
   },
   "file_extension": ".py",
   "mimetype": "text/x-python",
   "name": "python",
   "nbconvert_exporter": "python",
   "pygments_lexer": "ipython3",
   "version": "3.12.1"
  }
 },
 "nbformat": 4,
 "nbformat_minor": 5
}
